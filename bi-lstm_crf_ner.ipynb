{
 "cells": [
  {
   "cell_type": "markdown",
   "metadata": {},
   "source": [
    "# Bidirectional LSTM Conditional Random Field for Named-Entity Recognition\n",
    "\n",
    "Original author: Robert Guthrie  \n",
    "Original link: http://pytorch.org/tutorials/beginner/nlp/advanced_tutorial.html"
   ]
  },
  {
   "cell_type": "markdown",
   "metadata": {},
   "source": [
    "Conditional Random Field computes a conditional probability\n",
    "$$P(y|x) = \\frac{\\exp{(\\text{Score}(x, y)})}{\\sum_{y'} \\exp{(\\text{Score}(x, y')})}$$\n",
    "y: tag sequence  \n",
    "x: input sequence of words  \n",
    "score: defined by log potentials $\\log \\psi_i(x,y)$ such that  \n",
    "$$\\text{Score}(x,y) = \\sum_i \\log \\psi_i(x,y)$$\n",
    "Only use local features for tractability in partition function."
   ]
  },
  {
   "cell_type": "markdown",
   "metadata": {},
   "source": [
    "We define 2 types of potentials:\n",
    "- emission: word at index i comes from hidden state of Bi-LSTM at timestep i\n",
    "- transition: transition scores are stored in matrix $\\textbf{P}$, a |T|x|T| matrix, where T is the tag set. $\\textbf{P}_{j,k}$ is the transition score from k to j\n",
    "\n",
    "$$\\text{Score}(x,y) = \\sum_i \\log \\psi_\\text{EMIT}(y_i \\rightarrow x_i) + \\log \\psi_\\text{TRANS}(y_{i-1} \\rightarrow y_i)$$\n",
    "$$= \\sum_i h_i[y_i] + \\textbf{P}_{y_i, y_{i-1}}$$\n",
    "tags are assigned unique non-negative indices \n",
    "  \n",
    "Comprehensive write-up on CRF by Prof. Micheal Collins: http://www.cs.columbia.edu/~mcollins/crf.pdf. More detailed write-ups on NLP in general are on his website: http://www.cs.columbia.edu/~mcollins/"
   ]
  }
 ],
 "metadata": {
  "kernelspec": {
   "display_name": "Python 2",
   "language": "python",
   "name": "python2"
  },
  "language_info": {
   "codemirror_mode": {
    "name": "ipython",
    "version": 2
   },
   "file_extension": ".py",
   "mimetype": "text/x-python",
   "name": "python",
   "nbconvert_exporter": "python",
   "pygments_lexer": "ipython2",
   "version": "2.7.10"
  }
 },
 "nbformat": 4,
 "nbformat_minor": 2
}
